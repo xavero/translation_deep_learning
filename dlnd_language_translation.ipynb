{
 "cells": [
  {
   "cell_type": "markdown",
   "metadata": {
    "collapsed": true,
    "deletable": true,
    "editable": true
   },
   "source": [
    "# Language Translation\n",
    "In this project, you’re going to take a peek into the realm of neural network machine translation.  You’ll be training a sequence to sequence model on a dataset of English and French sentences that can translate new sentences from English to French.\n",
    "## Get the Data\n",
    "Since translating the whole language of English to French will take lots of time to train, we have provided you with a small portion of the English corpus."
   ]
  },
  {
   "cell_type": "code",
   "execution_count": 1,
   "metadata": {
    "collapsed": false,
    "deletable": true,
    "editable": true
   },
   "outputs": [],
   "source": [
    "\"\"\"\n",
    "DON'T MODIFY ANYTHING IN THIS CELL\n",
    "\"\"\"\n",
    "import helper\n",
    "import problem_unittests as tests\n",
    "\n",
    "source_path = 'data/small_vocab_en'\n",
    "target_path = 'data/small_vocab_fr'\n",
    "source_text = helper.load_data(source_path)\n",
    "target_text = helper.load_data(target_path)"
   ]
  },
  {
   "cell_type": "markdown",
   "metadata": {
    "deletable": true,
    "editable": true
   },
   "source": [
    "## Explore the Data\n",
    "Play around with view_sentence_range to view different parts of the data."
   ]
  },
  {
   "cell_type": "code",
   "execution_count": 2,
   "metadata": {
    "collapsed": false,
    "deletable": true,
    "editable": true
   },
   "outputs": [
    {
     "name": "stdout",
     "output_type": "stream",
     "text": [
      "Dataset Stats\n",
      "Roughly the number of unique words: 227\n",
      "Number of sentences: 137861\n",
      "Average number of words in a sentence: 13.225277634719028\n",
      "\n",
      "English sentences 0 to 10:\n",
      "new jersey is sometimes quiet during autumn , and it is snowy in april .\n",
      "the united states is usually chilly during july , and it is usually freezing in november .\n",
      "california is usually quiet during march , and it is usually hot in june .\n",
      "the united states is sometimes mild during june , and it is cold in september .\n",
      "your least liked fruit is the grape , but my least liked is the apple .\n",
      "his favorite fruit is the orange , but my favorite is the grape .\n",
      "paris is relaxing during december , but it is usually chilly in july .\n",
      "new jersey is busy during spring , and it is never hot in march .\n",
      "our least liked fruit is the lemon , but my least liked is the grape .\n",
      "the united states is sometimes busy during january , and it is sometimes warm in november .\n",
      "\n",
      "French sentences 0 to 10:\n",
      "new jersey est parfois calme pendant l' automne , et il est neigeux en avril .\n",
      "les états-unis est généralement froid en juillet , et il gèle habituellement en novembre .\n",
      "california est généralement calme en mars , et il est généralement chaud en juin .\n",
      "les états-unis est parfois légère en juin , et il fait froid en septembre .\n",
      "votre moins aimé fruit est le raisin , mais mon moins aimé est la pomme .\n",
      "son fruit préféré est l'orange , mais mon préféré est le raisin .\n",
      "paris est relaxant en décembre , mais il est généralement froid en juillet .\n",
      "new jersey est occupé au printemps , et il est jamais chaude en mars .\n",
      "notre fruit est moins aimé le citron , mais mon moins aimé est le raisin .\n",
      "les états-unis est parfois occupé en janvier , et il est parfois chaud en novembre .\n"
     ]
    }
   ],
   "source": [
    "view_sentence_range = (0, 10)\n",
    "\n",
    "\"\"\"\n",
    "DON'T MODIFY ANYTHING IN THIS CELL\n",
    "\"\"\"\n",
    "import numpy as np\n",
    "\n",
    "print('Dataset Stats')\n",
    "print('Roughly the number of unique words: {}'.format(len({word: None for word in source_text.split()})))\n",
    "\n",
    "sentences = source_text.split('\\n')\n",
    "word_counts = [len(sentence.split()) for sentence in sentences]\n",
    "print('Number of sentences: {}'.format(len(sentences)))\n",
    "print('Average number of words in a sentence: {}'.format(np.average(word_counts)))\n",
    "\n",
    "print()\n",
    "print('English sentences {} to {}:'.format(*view_sentence_range))\n",
    "print('\\n'.join(source_text.split('\\n')[view_sentence_range[0]:view_sentence_range[1]]))\n",
    "print()\n",
    "print('French sentences {} to {}:'.format(*view_sentence_range))\n",
    "print('\\n'.join(target_text.split('\\n')[view_sentence_range[0]:view_sentence_range[1]]))"
   ]
  },
  {
   "cell_type": "markdown",
   "metadata": {
    "deletable": true,
    "editable": true
   },
   "source": [
    "## Implement Preprocessing Function\n",
    "### Text to Word Ids\n",
    "As you did with other RNNs, you must turn the text into a number so the computer can understand it. In the function `text_to_ids()`, you'll turn `source_text` and `target_text` from words to ids.  However, you need to add the `<EOS>` word id at the end of each sentence from `target_text`.  This will help the neural network predict when the sentence should end.\n",
    "\n",
    "You can get the `<EOS>` word id by doing:\n",
    "```python\n",
    "target_vocab_to_int['<EOS>']\n",
    "```\n",
    "You can get other word ids using `source_vocab_to_int` and `target_vocab_to_int`."
   ]
  },
  {
   "cell_type": "code",
   "execution_count": 3,
   "metadata": {
    "collapsed": false,
    "deletable": true,
    "editable": true
   },
   "outputs": [
    {
     "name": "stdout",
     "output_type": "stream",
     "text": [
      "Tests Passed\n"
     ]
    }
   ],
   "source": [
    "def text_to_ids(source_text, target_text, source_vocab_to_int, target_vocab_to_int):\n",
    "    \"\"\"\n",
    "    Convert source and target text to proper word ids\n",
    "    :param source_text: String that contains all the source text.\n",
    "    :param target_text: String that contains all the target text.\n",
    "    :param source_vocab_to_int: Dictionary to go from the source words to an id\n",
    "    :param target_vocab_to_int: Dictionary to go from the target words to an id\n",
    "    :return: A tuple of lists (source_id_text, target_id_text)\n",
    "    \"\"\"\n",
    "    # print(source_vocab_to_int)\n",
    "    # print(target_vocab_to_int)\n",
    "    \n",
    "    sentences_source = source_text.split(\"\\n\")\n",
    "    source_id_text = [[source_vocab_to_int[word] for word in sentence.split(' ') if word != ''] for sentence in sentences_source]\n",
    "\n",
    "    sentences_target = target_text.split(\"\\n\")\n",
    "    target_id_text = [[target_vocab_to_int[word] for word in sentence.split(' ')+['<EOS>'] if word != ''] for sentence in sentences_target]\n",
    "\n",
    "    return source_id_text, target_id_text\n",
    "\n",
    "\"\"\"\n",
    "DON'T MODIFY ANYTHING IN THIS CELL THAT IS BELOW THIS LINE\n",
    "\"\"\"\n",
    "tests.test_text_to_ids(text_to_ids)"
   ]
  },
  {
   "cell_type": "markdown",
   "metadata": {
    "deletable": true,
    "editable": true
   },
   "source": [
    "### Preprocess all the data and save it\n",
    "Running the code cell below will preprocess all the data and save it to file."
   ]
  },
  {
   "cell_type": "code",
   "execution_count": 4,
   "metadata": {
    "collapsed": false,
    "deletable": true,
    "editable": true
   },
   "outputs": [],
   "source": [
    "\"\"\"\n",
    "DON'T MODIFY ANYTHING IN THIS CELL\n",
    "\"\"\"\n",
    "helper.preprocess_and_save_data(source_path, target_path, text_to_ids)"
   ]
  },
  {
   "cell_type": "markdown",
   "metadata": {
    "deletable": true,
    "editable": true
   },
   "source": [
    "# Check Point\n",
    "This is your first checkpoint. If you ever decide to come back to this notebook or have to restart the notebook, you can start from here. The preprocessed data has been saved to disk."
   ]
  },
  {
   "cell_type": "code",
   "execution_count": 5,
   "metadata": {
    "collapsed": false,
    "deletable": true,
    "editable": true
   },
   "outputs": [],
   "source": [
    "\"\"\"\n",
    "DON'T MODIFY ANYTHING IN THIS CELL\n",
    "\"\"\"\n",
    "import numpy as np\n",
    "import helper\n",
    "\n",
    "(source_int_text, target_int_text), (source_vocab_to_int, target_vocab_to_int), _ = helper.load_preprocess()"
   ]
  },
  {
   "cell_type": "markdown",
   "metadata": {
    "deletable": true,
    "editable": true
   },
   "source": [
    "### Check the Version of TensorFlow and Access to GPU\n",
    "This will check to make sure you have the correct version of TensorFlow and access to a GPU"
   ]
  },
  {
   "cell_type": "code",
   "execution_count": 6,
   "metadata": {
    "collapsed": false,
    "deletable": true,
    "editable": true
   },
   "outputs": [
    {
     "name": "stdout",
     "output_type": "stream",
     "text": [
      "TensorFlow Version: 1.0.1\n"
     ]
    },
    {
     "name": "stderr",
     "output_type": "stream",
     "text": [
      "C:\\Users\\Flavio\\Anaconda3\\envs\\udacity\\lib\\site-packages\\ipykernel\\__main__.py:14: UserWarning: No GPU found. Please use a GPU to train your neural network.\n"
     ]
    }
   ],
   "source": [
    "\"\"\"\n",
    "DON'T MODIFY ANYTHING IN THIS CELL\n",
    "\"\"\"\n",
    "from distutils.version import LooseVersion\n",
    "import warnings\n",
    "import tensorflow as tf\n",
    "\n",
    "# Check TensorFlow Version\n",
    "assert LooseVersion(tf.__version__) in [LooseVersion('1.0.0'), LooseVersion('1.0.1')], 'This project requires TensorFlow version 1.0  You are using {}'.format(tf.__version__)\n",
    "print('TensorFlow Version: {}'.format(tf.__version__))\n",
    "\n",
    "# Check for a GPU\n",
    "if not tf.test.gpu_device_name():\n",
    "    warnings.warn('No GPU found. Please use a GPU to train your neural network.')\n",
    "else:\n",
    "    print('Default GPU Device: {}'.format(tf.test.gpu_device_name()))"
   ]
  },
  {
   "cell_type": "markdown",
   "metadata": {
    "deletable": true,
    "editable": true
   },
   "source": [
    "## Build the Neural Network\n",
    "You'll build the components necessary to build a Sequence-to-Sequence model by implementing the following functions below:\n",
    "- `model_inputs`\n",
    "- `process_decoding_input`\n",
    "- `encoding_layer`\n",
    "- `decoding_layer_train`\n",
    "- `decoding_layer_infer`\n",
    "- `decoding_layer`\n",
    "- `seq2seq_model`\n",
    "\n",
    "### Input\n",
    "Implement the `model_inputs()` function to create TF Placeholders for the Neural Network. It should create the following placeholders:\n",
    "\n",
    "- Input text placeholder named \"input\" using the TF Placeholder name parameter with rank 2.\n",
    "- Targets placeholder with rank 2.\n",
    "- Learning rate placeholder with rank 0.\n",
    "- Keep probability placeholder named \"keep_prob\" using the TF Placeholder name parameter with rank 0.\n",
    "\n",
    "Return the placeholders in the following the tuple (Input, Targets, Learing Rate, Keep Probability)"
   ]
  },
  {
   "cell_type": "code",
   "execution_count": 7,
   "metadata": {
    "collapsed": false,
    "deletable": true,
    "editable": true
   },
   "outputs": [
    {
     "name": "stdout",
     "output_type": "stream",
     "text": [
      "Tests Passed\n"
     ]
    }
   ],
   "source": [
    "def model_inputs():\n",
    "    \"\"\"\n",
    "    Create TF Placeholders for input, targets, and learning rate.\n",
    "    :return: Tuple (input, targets, learning rate, keep probability)\n",
    "    \"\"\"\n",
    "    tf_input = tf.placeholder(tf.int32, [None, None], name='input')\n",
    "    tf_target = tf.placeholder(tf.int32, [None, None], name='target')\n",
    "    tf_learning_rate = tf.placeholder(tf.float32, name='learning_rate')\n",
    "    tf_keep_prob = tf.placeholder(tf.float32, name='keep_prob')\n",
    "    \n",
    "    return tf_input, tf_target, tf_learning_rate, tf_keep_prob\n",
    "\n",
    "\"\"\"\n",
    "DON'T MODIFY ANYTHING IN THIS CELL THAT IS BELOW THIS LINE\n",
    "\"\"\"\n",
    "tests.test_model_inputs(model_inputs)"
   ]
  },
  {
   "cell_type": "markdown",
   "metadata": {
    "deletable": true,
    "editable": true
   },
   "source": [
    "### Process Decoding Input\n",
    "Implement `process_decoding_input` using TensorFlow to remove the last word id from each batch in `target_data` and concat the GO ID to the begining of each batch."
   ]
  },
  {
   "cell_type": "code",
   "execution_count": 8,
   "metadata": {
    "collapsed": false,
    "deletable": true,
    "editable": true
   },
   "outputs": [
    {
     "name": "stdout",
     "output_type": "stream",
     "text": [
      "Tests Passed\n"
     ]
    }
   ],
   "source": [
    "def process_decoding_input(target_data, target_vocab_to_int, batch_size):\n",
    "    \"\"\"\n",
    "    Preprocess target data for dencoding\n",
    "    :param target_data: Target Placehoder\n",
    "    :param target_vocab_to_int: Dictionary to go from the target words to an id\n",
    "    :param batch_size: Batch Size\n",
    "    :return: Preprocessed target data\n",
    "    \"\"\"\n",
    "    preprocessed_target_data = tf.strided_slice(target_data, [0, 0], [batch_size, -1], [1, 1])\n",
    "    return tf.concat([tf.fill([batch_size, 1], target_vocab_to_int['<GO>']), preprocessed_target_data], 1)\n",
    "\n",
    "\"\"\"\n",
    "DON'T MODIFY ANYTHING IN THIS CELL THAT IS BELOW THIS LINE\n",
    "\"\"\"\n",
    "tests.test_process_decoding_input(process_decoding_input)"
   ]
  },
  {
   "cell_type": "markdown",
   "metadata": {
    "deletable": true,
    "editable": true
   },
   "source": [
    "### Encoding\n",
    "Implement `encoding_layer()` to create a Encoder RNN layer using [`tf.nn.dynamic_rnn()`](https://www.tensorflow.org/api_docs/python/tf/nn/dynamic_rnn)."
   ]
  },
  {
   "cell_type": "code",
   "execution_count": 9,
   "metadata": {
    "collapsed": false,
    "deletable": true,
    "editable": true
   },
   "outputs": [
    {
     "name": "stdout",
     "output_type": "stream",
     "text": [
      "Tests Passed\n"
     ]
    }
   ],
   "source": [
    "def encoding_layer(rnn_inputs, rnn_size, num_layers, keep_prob):\n",
    "    \"\"\"\n",
    "    Create encoding layer\n",
    "    :param rnn_inputs: Inputs for the RNN\n",
    "    :param rnn_size: RNN Size\n",
    "    :param num_layers: Number of layers\n",
    "    :param keep_prob: Dropout keep probability\n",
    "    :return: RNN state\n",
    "    \"\"\"\n",
    "    enc_cell = tf.contrib.rnn.MultiRNNCell([tf.contrib.rnn.BasicLSTMCell(rnn_size)] * num_layers)\n",
    "    _, enc_state = tf.nn.dynamic_rnn(enc_cell, tf.nn.dropout(rnn_inputs, keep_prob), dtype=tf.float32)\n",
    "    return enc_state\n",
    "\n",
    "\"\"\"\n",
    "DON'T MODIFY ANYTHING IN THIS CELL THAT IS BELOW THIS LINE\n",
    "\"\"\"\n",
    "tests.test_encoding_layer(encoding_layer)"
   ]
  },
  {
   "cell_type": "markdown",
   "metadata": {
    "deletable": true,
    "editable": true
   },
   "source": [
    "### Decoding - Training\n",
    "Create training logits using [`tf.contrib.seq2seq.simple_decoder_fn_train()`](https://www.tensorflow.org/api_docs/python/tf/contrib/seq2seq/simple_decoder_fn_train) and [`tf.contrib.seq2seq.dynamic_rnn_decoder()`](https://www.tensorflow.org/api_docs/python/tf/contrib/seq2seq/dynamic_rnn_decoder).  Apply the `output_fn` to the [`tf.contrib.seq2seq.dynamic_rnn_decoder()`](https://www.tensorflow.org/api_docs/python/tf/contrib/seq2seq/dynamic_rnn_decoder) outputs."
   ]
  },
  {
   "cell_type": "code",
   "execution_count": 10,
   "metadata": {
    "collapsed": false,
    "deletable": true,
    "editable": true
   },
   "outputs": [
    {
     "name": "stdout",
     "output_type": "stream",
     "text": [
      "Tests Passed\n"
     ]
    }
   ],
   "source": [
    "def decoding_layer_train(encoder_state, dec_cell, dec_embed_input, sequence_length, decoding_scope,\n",
    "                         output_fn, keep_prob):\n",
    "    \"\"\"\n",
    "    Create a decoding layer for training\n",
    "    :param encoder_state: Encoder State\n",
    "    :param dec_cell: Decoder RNN Cell\n",
    "    :param dec_embed_input: Decoder embedded input\n",
    "    :param sequence_length: Sequence Length\n",
    "    :param decoding_scope: TenorFlow Variable Scope for decoding\n",
    "    :param output_fn: Function to apply the output layer\n",
    "    :param keep_prob: Dropout keep probability\n",
    "    :return: Train Logits\n",
    "    \"\"\"\n",
    "    train_decoder_fn = tf.contrib.seq2seq.simple_decoder_fn_train(encoder_state)\n",
    "    \n",
    "    train_pred, _, _ = tf.contrib.seq2seq.dynamic_rnn_decoder(\n",
    "        dec_cell, train_decoder_fn, dec_embed_input, sequence_length, scope=decoding_scope)\n",
    "    \n",
    "    # Apply output function\n",
    "    # return output_fn(train_pred)\n",
    "    return tf.contrib.layers.dropout(output_fn(train_pred), keep_prob)\n",
    "\n",
    "\"\"\"\n",
    "DON'T MODIFY ANYTHING IN THIS CELL THAT IS BELOW THIS LINE\n",
    "\"\"\"\n",
    "tests.test_decoding_layer_train(decoding_layer_train)"
   ]
  },
  {
   "cell_type": "markdown",
   "metadata": {
    "deletable": true,
    "editable": true
   },
   "source": [
    "### Decoding - Inference\n",
    "Create inference logits using [`tf.contrib.seq2seq.simple_decoder_fn_inference()`](https://www.tensorflow.org/api_docs/python/tf/contrib/seq2seq/simple_decoder_fn_inference) and [`tf.contrib.seq2seq.dynamic_rnn_decoder()`](https://www.tensorflow.org/api_docs/python/tf/contrib/seq2seq/dynamic_rnn_decoder). "
   ]
  },
  {
   "cell_type": "code",
   "execution_count": 11,
   "metadata": {
    "collapsed": false,
    "deletable": true,
    "editable": true
   },
   "outputs": [
    {
     "name": "stdout",
     "output_type": "stream",
     "text": [
      "Tests Passed\n"
     ]
    }
   ],
   "source": [
    "def decoding_layer_infer(encoder_state, dec_cell, dec_embeddings, start_of_sequence_id, end_of_sequence_id,\n",
    "                         maximum_length, vocab_size, decoding_scope, output_fn, keep_prob):\n",
    "    \"\"\"\n",
    "    Create a decoding layer for inference\n",
    "    :param encoder_state: Encoder state\n",
    "    :param dec_cell: Decoder RNN Cell\n",
    "    :param dec_embeddings: Decoder embeddings\n",
    "    :param start_of_sequence_id: GO ID\n",
    "    :param end_of_sequence_id: EOS Id\n",
    "    :param maximum_length: The maximum allowed time steps to decode\n",
    "    :param vocab_size: Size of vocabulary\n",
    "    :param decoding_scope: TensorFlow Variable Scope for decoding\n",
    "    :param output_fn: Function to apply the output layer\n",
    "    :param keep_prob: Dropout keep probability\n",
    "    :return: Inference Logits\n",
    "    \"\"\"\n",
    "    infer_decoder_fn = tf.contrib.seq2seq.simple_decoder_fn_inference(\n",
    "    output_fn, encoder_state, dec_embeddings, start_of_sequence_id, end_of_sequence_id, \n",
    "    maximum_length, vocab_size)\n",
    "    \n",
    "    inference_logits, _, _ = tf.contrib.seq2seq.dynamic_rnn_decoder(dec_cell, decoder_fn=infer_decoder_fn, scope=decoding_scope)\n",
    "    return tf.contrib.layers.dropout(inference_logits, keep_prob)\n",
    "\n",
    "\n",
    "\"\"\"\n",
    "DON'T MODIFY ANYTHING IN THIS CELL THAT IS BELOW THIS LINE\n",
    "\"\"\"\n",
    "tests.test_decoding_layer_infer(decoding_layer_infer)"
   ]
  },
  {
   "cell_type": "markdown",
   "metadata": {
    "deletable": true,
    "editable": true
   },
   "source": [
    "### Build the Decoding Layer\n",
    "Implement `decoding_layer()` to create a Decoder RNN layer.\n",
    "\n",
    "- Create RNN cell for decoding using `rnn_size` and `num_layers`.\n",
    "- Create the output fuction using [`lambda`](https://docs.python.org/3/tutorial/controlflow.html#lambda-expressions) to transform it's input, logits, to class logits.\n",
    "- Use the your `decoding_layer_train(encoder_state, dec_cell, dec_embed_input, sequence_length, decoding_scope, output_fn, keep_prob)` function to get the training logits.\n",
    "- Use your `decoding_layer_infer(encoder_state, dec_cell, dec_embeddings, start_of_sequence_id, end_of_sequence_id, maximum_length, vocab_size, decoding_scope, output_fn, keep_prob)` function to get the inference logits.\n",
    "\n",
    "Note: You'll need to use [tf.variable_scope](https://www.tensorflow.org/api_docs/python/tf/variable_scope) to share variables between training and inference."
   ]
  },
  {
   "cell_type": "code",
   "execution_count": 19,
   "metadata": {
    "collapsed": false,
    "deletable": true,
    "editable": true
   },
   "outputs": [
    {
     "name": "stdout",
     "output_type": "stream",
     "text": [
      "Tests Passed\n"
     ]
    }
   ],
   "source": [
    "def decoding_layer(dec_embed_input, dec_embeddings, encoder_state, vocab_size, sequence_length, rnn_size,\n",
    "                   num_layers, target_vocab_to_int, keep_prob):\n",
    "    \"\"\"\n",
    "    Create decoding layer\n",
    "    :param dec_embed_input: Decoder embedded input\n",
    "    :param dec_embeddings: Decoder embeddings\n",
    "    :param encoder_state: The encoded state\n",
    "    :param vocab_size: Size of vocabulary\n",
    "    :param sequence_length: Sequence Length\n",
    "    :param rnn_size: RNN Size\n",
    "    :param num_layers: Number of layers\n",
    "    :param target_vocab_to_int: Dictionary to go from the target words to an id\n",
    "    :param keep_prob: Dropout keep probability\n",
    "    :return: Tuple of (Training Logits, Inference Logits)\n",
    "    \"\"\"\n",
    "    dec_cell = tf.contrib.rnn.MultiRNNCell([tf.contrib.rnn.BasicLSTMCell(rnn_size)] * num_layers)\n",
    "    \n",
    "    with tf.variable_scope(\"decoding\") as decoding_scope:\n",
    "        output_fn = lambda x: tf.contrib.layers.fully_connected(x, vocab_size, None, scope=decoding_scope)\n",
    "        training_logits = decoding_layer_train(encoder_state, dec_cell, dec_embed_input, sequence_length, \n",
    "                                               decoding_scope, output_fn, keep_prob)\n",
    "    with tf.variable_scope(\"decoding\",reuse=True) as decoding_scope:\n",
    "        inference_logits = decoding_layer_infer(encoder_state, dec_cell, dec_embeddings, \n",
    "                                                target_vocab_to_int['<GO>'], target_vocab_to_int['<EOS>'], \n",
    "                                                sequence_length, vocab_size, decoding_scope, output_fn, keep_prob)\n",
    "    \n",
    "    return training_logits, inference_logits\n",
    "\n",
    "\n",
    "\"\"\"\n",
    "DON'T MODIFY ANYTHING IN THIS CELL THAT IS BELOW THIS LINE\n",
    "\"\"\"\n",
    "tests.test_decoding_layer(decoding_layer)"
   ]
  },
  {
   "cell_type": "markdown",
   "metadata": {
    "deletable": true,
    "editable": true
   },
   "source": [
    "### Build the Neural Network\n",
    "Apply the functions you implemented above to:\n",
    "\n",
    "- Apply embedding to the input data for the encoder.\n",
    "- Encode the input using your `encoding_layer(rnn_inputs, rnn_size, num_layers, keep_prob)`.\n",
    "- Process target data using your `process_decoding_input(target_data, target_vocab_to_int, batch_size)` function.\n",
    "- Apply embedding to the target data for the decoder.\n",
    "- Decode the encoded input using your `decoding_layer(dec_embed_input, dec_embeddings, encoder_state, vocab_size, sequence_length, rnn_size, num_layers, target_vocab_to_int, keep_prob)`."
   ]
  },
  {
   "cell_type": "code",
   "execution_count": 20,
   "metadata": {
    "collapsed": false,
    "deletable": true,
    "editable": true
   },
   "outputs": [
    {
     "name": "stdout",
     "output_type": "stream",
     "text": [
      "Tests Passed\n"
     ]
    }
   ],
   "source": [
    "def seq2seq_model(input_data, target_data, keep_prob, batch_size, sequence_length, source_vocab_size, target_vocab_size,\n",
    "                  enc_embedding_size, dec_embedding_size, rnn_size, num_layers, target_vocab_to_int):\n",
    "    \"\"\"\n",
    "    Build the Sequence-to-Sequence part of the neural network\n",
    "    :param input_data: Input placeholder\n",
    "    :param target_data: Target placeholder\n",
    "    :param keep_prob: Dropout keep probability placeholder\n",
    "    :param batch_size: Batch Size\n",
    "    :param sequence_length: Sequence Length\n",
    "    :param source_vocab_size: Source vocabulary size\n",
    "    :param target_vocab_size: Target vocabulary size\n",
    "    :param enc_embedding_size: Decoder embedding size\n",
    "    :param dec_embedding_size: Encoder embedding size\n",
    "    :param rnn_size: RNN Size\n",
    "    :param num_layers: Number of layers\n",
    "    :param target_vocab_to_int: Dictionary to go from the target words to an id\n",
    "    :return: Tuple of (Training Logits, Inference Logits)\n",
    "    \"\"\"\n",
    "    rnn_inputs = tf.contrib.layers.embed_sequence(input_data, source_vocab_size, enc_embedding_size)\n",
    "    enc_cell = encoding_layer(rnn_inputs, rnn_size, num_layers, keep_prob)\n",
    "    \n",
    "    dec_cell = process_decoding_input(target_data, target_vocab_to_int, batch_size)\n",
    "    dec_embeddings = tf.Variable(tf.random_uniform([target_vocab_size, dec_embedding_size]))\n",
    "    dec_embed_input = tf.contrib.layers.embed_sequence(dec_cell, target_vocab_size, dec_embedding_size)\n",
    "    \n",
    "    return decoding_layer(dec_embed_input, dec_embeddings, enc_cell, target_vocab_size, sequence_length, rnn_size,\n",
    "                              num_layers, target_vocab_to_int, keep_prob)\n",
    "\n",
    "\n",
    "\"\"\"\n",
    "DON'T MODIFY ANYTHING IN THIS CELL THAT IS BELOW THIS LINE\n",
    "\"\"\"\n",
    "tests.test_seq2seq_model(seq2seq_model)"
   ]
  },
  {
   "cell_type": "markdown",
   "metadata": {
    "deletable": true,
    "editable": true
   },
   "source": [
    "## Neural Network Training\n",
    "### Hyperparameters\n",
    "Tune the following parameters:\n",
    "\n",
    "- Set `epochs` to the number of epochs.\n",
    "- Set `batch_size` to the batch size.\n",
    "- Set `rnn_size` to the size of the RNNs.\n",
    "- Set `num_layers` to the number of layers.\n",
    "- Set `encoding_embedding_size` to the size of the embedding for the encoder.\n",
    "- Set `decoding_embedding_size` to the size of the embedding for the decoder.\n",
    "- Set `learning_rate` to the learning rate.\n",
    "- Set `keep_probability` to the Dropout keep probability"
   ]
  },
  {
   "cell_type": "code",
   "execution_count": 37,
   "metadata": {
    "collapsed": true,
    "deletable": true,
    "editable": true
   },
   "outputs": [],
   "source": [
    "# Number of Epochs\n",
    "epochs = 1\n",
    "# Batch Size\n",
    "batch_size = 256\n",
    "# RNN Size\n",
    "rnn_size = 5\n",
    "# Number of Layers\n",
    "num_layers = 2\n",
    "# Embedding Size\n",
    "encoding_embedding_size = 5\n",
    "decoding_embedding_size = 5\n",
    "# Learning Rate\n",
    "learning_rate = 0.01\n",
    "# Dropout Keep Probability\n",
    "keep_probability = 0.75"
   ]
  },
  {
   "cell_type": "markdown",
   "metadata": {
    "deletable": true,
    "editable": true
   },
   "source": [
    "### Build the Graph\n",
    "Build the graph using the neural network you implemented."
   ]
  },
  {
   "cell_type": "code",
   "execution_count": 38,
   "metadata": {
    "collapsed": false,
    "deletable": true,
    "editable": true
   },
   "outputs": [],
   "source": [
    "\"\"\"\n",
    "DON'T MODIFY ANYTHING IN THIS CELL\n",
    "\"\"\"\n",
    "save_path = 'checkpoints/dev'\n",
    "(source_int_text, target_int_text), (source_vocab_to_int, target_vocab_to_int), _ = helper.load_preprocess()\n",
    "max_source_sentence_length = max([len(sentence) for sentence in source_int_text])\n",
    "\n",
    "train_graph = tf.Graph()\n",
    "with train_graph.as_default():\n",
    "    input_data, targets, lr, keep_prob = model_inputs()\n",
    "    sequence_length = tf.placeholder_with_default(max_source_sentence_length, None, name='sequence_length')\n",
    "    input_shape = tf.shape(input_data)\n",
    "    \n",
    "    train_logits, inference_logits = seq2seq_model(\n",
    "        tf.reverse(input_data, [-1]), targets, keep_prob, batch_size, sequence_length, len(source_vocab_to_int), len(target_vocab_to_int),\n",
    "        encoding_embedding_size, decoding_embedding_size, rnn_size, num_layers, target_vocab_to_int)\n",
    "\n",
    "    tf.identity(inference_logits, 'logits')\n",
    "    with tf.name_scope(\"optimization\"):\n",
    "        # Loss function\n",
    "        cost = tf.contrib.seq2seq.sequence_loss(\n",
    "            train_logits,\n",
    "            targets,\n",
    "            tf.ones([input_shape[0], sequence_length]))\n",
    "\n",
    "        # Optimizer\n",
    "        optimizer = tf.train.AdamOptimizer(lr)\n",
    "\n",
    "        # Gradient Clipping\n",
    "        gradients = optimizer.compute_gradients(cost)\n",
    "        capped_gradients = [(tf.clip_by_value(grad, -1., 1.), var) for grad, var in gradients if grad is not None]\n",
    "        train_op = optimizer.apply_gradients(capped_gradients)"
   ]
  },
  {
   "cell_type": "markdown",
   "metadata": {
    "deletable": true,
    "editable": true
   },
   "source": [
    "### Train\n",
    "Train the neural network on the preprocessed data. If you have a hard time getting a good loss, check the forms to see if anyone is having the same problem."
   ]
  },
  {
   "cell_type": "code",
   "execution_count": null,
   "metadata": {
    "collapsed": false,
    "deletable": true,
    "editable": true,
    "scrolled": true
   },
   "outputs": [
    {
     "name": "stdout",
     "output_type": "stream",
     "text": [
      "Epoch   0 Batch    0/538 - Train Accuracy:  0.106, Validation Accuracy:  0.183, Loss:  5.881\n",
      "Epoch   0 Batch    1/538 - Train Accuracy:  0.101, Validation Accuracy:  0.180, Loss:  5.865\n",
      "Epoch   0 Batch    2/538 - Train Accuracy:  0.101, Validation Accuracy:  0.180, Loss:  5.847\n",
      "Epoch   0 Batch    3/538 - Train Accuracy:  0.102, Validation Accuracy:  0.183, Loss:  5.827\n",
      "Epoch   0 Batch    4/538 - Train Accuracy:  0.108, Validation Accuracy:  0.186, Loss:  5.801\n",
      "Epoch   0 Batch    5/538 - Train Accuracy:  0.153, Validation Accuracy:  0.186, Loss:  5.768\n",
      "Epoch   0 Batch    6/538 - Train Accuracy:  0.153, Validation Accuracy:  0.186, Loss:  5.726\n",
      "Epoch   0 Batch    7/538 - Train Accuracy:  0.108, Validation Accuracy:  0.186, Loss:  5.682\n",
      "Epoch   0 Batch    8/538 - Train Accuracy:  0.108, Validation Accuracy:  0.186, Loss:  5.626\n",
      "Epoch   0 Batch    9/538 - Train Accuracy:  0.106, Validation Accuracy:  0.186, Loss:  5.556\n",
      "Epoch   0 Batch   10/538 - Train Accuracy:  0.104, Validation Accuracy:  0.183, Loss:  5.495\n",
      "Epoch   0 Batch   11/538 - Train Accuracy:  0.104, Validation Accuracy:  0.183, Loss:  5.426\n",
      "Epoch   0 Batch   12/538 - Train Accuracy:  0.103, Validation Accuracy:  0.183, Loss:  5.362\n",
      "Epoch   0 Batch   13/538 - Train Accuracy:  0.145, Validation Accuracy:  0.183, Loss:  5.272\n",
      "Epoch   0 Batch   14/538 - Train Accuracy:  0.104, Validation Accuracy:  0.183, Loss:  5.208\n",
      "Epoch   0 Batch   15/538 - Train Accuracy:  0.147, Validation Accuracy:  0.184, Loss:  5.135\n",
      "Epoch   0 Batch   16/538 - Train Accuracy:  0.156, Validation Accuracy:  0.196, Loss:  5.060\n",
      "Epoch   0 Batch   17/538 - Train Accuracy:  0.117, Validation Accuracy:  0.203, Loss:  5.020\n",
      "Epoch   0 Batch   18/538 - Train Accuracy:  0.119, Validation Accuracy:  0.203, Loss:  4.957\n",
      "Epoch   0 Batch   19/538 - Train Accuracy:  0.118, Validation Accuracy:  0.203, Loss:  4.920\n",
      "Epoch   0 Batch   20/538 - Train Accuracy:  0.181, Validation Accuracy:  0.215, Loss:  4.837\n",
      "Epoch   0 Batch   21/538 - Train Accuracy:  0.116, Validation Accuracy:  0.226, Loss:  4.798\n",
      "Epoch   0 Batch   22/538 - Train Accuracy:  0.152, Validation Accuracy:  0.226, Loss:  4.747\n",
      "Epoch   0 Batch   23/538 - Train Accuracy:  0.167, Validation Accuracy:  0.238, Loss:  4.699\n",
      "Epoch   0 Batch   24/538 - Train Accuracy:  0.210, Validation Accuracy:  0.238, Loss:  4.659\n",
      "Epoch   0 Batch   25/538 - Train Accuracy:  0.166, Validation Accuracy:  0.238, Loss:  4.624\n",
      "Epoch   0 Batch   26/538 - Train Accuracy:  0.167, Validation Accuracy:  0.238, Loss:  4.601\n",
      "Epoch   0 Batch   27/538 - Train Accuracy:  0.165, Validation Accuracy:  0.238, Loss:  4.568\n",
      "Epoch   0 Batch   28/538 - Train Accuracy:  0.243, Validation Accuracy:  0.238, Loss:  4.450\n",
      "Epoch   0 Batch   29/538 - Train Accuracy:  0.211, Validation Accuracy:  0.238, Loss:  4.474\n",
      "Epoch   0 Batch   30/538 - Train Accuracy:  0.167, Validation Accuracy:  0.238, Loss:  4.501\n",
      "Epoch   0 Batch   31/538 - Train Accuracy:  0.208, Validation Accuracy:  0.238, Loss:  4.446\n",
      "Epoch   0 Batch   32/538 - Train Accuracy:  0.210, Validation Accuracy:  0.238, Loss:  4.438\n",
      "Epoch   0 Batch   33/538 - Train Accuracy:  0.210, Validation Accuracy:  0.238, Loss:  4.406\n",
      "Epoch   0 Batch   34/538 - Train Accuracy:  0.165, Validation Accuracy:  0.238, Loss:  4.430\n",
      "Epoch   0 Batch   35/538 - Train Accuracy:  0.226, Validation Accuracy:  0.316, Loss:  4.386\n",
      "Epoch   0 Batch   36/538 - Train Accuracy:  0.270, Validation Accuracy:  0.316, Loss:  4.346\n",
      "Epoch   0 Batch   37/538 - Train Accuracy:  0.241, Validation Accuracy:  0.316, Loss:  4.377\n",
      "Epoch   0 Batch   38/538 - Train Accuracy:  0.227, Validation Accuracy:  0.316, Loss:  4.372\n",
      "Epoch   0 Batch   39/538 - Train Accuracy:  0.239, Validation Accuracy:  0.316, Loss:  4.376\n",
      "Epoch   0 Batch   40/538 - Train Accuracy:  0.305, Validation Accuracy:  0.316, Loss:  4.225\n",
      "Epoch   0 Batch   41/538 - Train Accuracy:  0.235, Validation Accuracy:  0.316, Loss:  4.308\n",
      "Epoch   0 Batch   42/538 - Train Accuracy:  0.241, Validation Accuracy:  0.316, Loss:  4.297\n",
      "Epoch   0 Batch   43/538 - Train Accuracy:  0.249, Validation Accuracy:  0.316, Loss:  4.303\n",
      "Epoch   0 Batch   44/538 - Train Accuracy:  0.228, Validation Accuracy:  0.316, Loss:  4.280\n",
      "Epoch   0 Batch   45/538 - Train Accuracy:  0.282, Validation Accuracy:  0.316, Loss:  4.240\n",
      "Epoch   0 Batch   46/538 - Train Accuracy:  0.244, Validation Accuracy:  0.316, Loss:  4.283\n",
      "Epoch   0 Batch   47/538 - Train Accuracy:  0.287, Validation Accuracy:  0.316, Loss:  4.197\n",
      "Epoch   0 Batch   48/538 - Train Accuracy:  0.299, Validation Accuracy:  0.316, Loss:  4.202\n",
      "Epoch   0 Batch   49/538 - Train Accuracy:  0.225, Validation Accuracy:  0.316, Loss:  4.278\n",
      "Epoch   0 Batch   50/538 - Train Accuracy:  0.244, Validation Accuracy:  0.316, Loss:  4.265\n",
      "Epoch   0 Batch   51/538 - Train Accuracy:  0.181, Validation Accuracy:  0.316, Loss:  4.368\n",
      "Epoch   0 Batch   52/538 - Train Accuracy:  0.260, Validation Accuracy:  0.316, Loss:  4.254\n",
      "Epoch   0 Batch   53/538 - Train Accuracy:  0.304, Validation Accuracy:  0.316, Loss:  4.117\n",
      "Epoch   0 Batch   54/538 - Train Accuracy:  0.251, Validation Accuracy:  0.316, Loss:  4.246\n",
      "Epoch   0 Batch   55/538 - Train Accuracy:  0.235, Validation Accuracy:  0.316, Loss:  4.247\n",
      "Epoch   0 Batch   56/538 - Train Accuracy:  0.273, Validation Accuracy:  0.316, Loss:  4.156\n",
      "Epoch   0 Batch   57/538 - Train Accuracy:  0.228, Validation Accuracy:  0.316, Loss:  4.279\n",
      "Epoch   0 Batch   58/538 - Train Accuracy:  0.218, Validation Accuracy:  0.316, Loss:  4.262\n",
      "Epoch   0 Batch   59/538 - Train Accuracy:  0.230, Validation Accuracy:  0.316, Loss:  4.267\n",
      "Epoch   0 Batch   60/538 - Train Accuracy:  0.237, Validation Accuracy:  0.316, Loss:  4.233\n",
      "Epoch   0 Batch   61/538 - Train Accuracy:  0.242, Validation Accuracy:  0.316, Loss:  4.268\n",
      "Epoch   0 Batch   62/538 - Train Accuracy:  0.255, Validation Accuracy:  0.316, Loss:  4.161\n",
      "Epoch   0 Batch   63/538 - Train Accuracy:  0.281, Validation Accuracy:  0.316, Loss:  4.125\n",
      "Epoch   0 Batch   64/538 - Train Accuracy:  0.283, Validation Accuracy:  0.316, Loss:  4.146\n",
      "Epoch   0 Batch   65/538 - Train Accuracy:  0.228, Validation Accuracy:  0.316, Loss:  4.235\n",
      "Epoch   0 Batch   66/538 - Train Accuracy:  0.272, Validation Accuracy:  0.316, Loss:  4.150\n",
      "Epoch   0 Batch   67/538 - Train Accuracy:  0.251, Validation Accuracy:  0.316, Loss:  4.198\n",
      "Epoch   0 Batch   68/538 - Train Accuracy:  0.268, Validation Accuracy:  0.316, Loss:  4.127\n",
      "Epoch   0 Batch   69/538 - Train Accuracy:  0.240, Validation Accuracy:  0.316, Loss:  4.195\n",
      "Epoch   0 Batch   70/538 - Train Accuracy:  0.273, Validation Accuracy:  0.316, Loss:  4.151\n",
      "Epoch   0 Batch   71/538 - Train Accuracy:  0.244, Validation Accuracy:  0.316, Loss:  4.236\n",
      "Epoch   0 Batch   72/538 - Train Accuracy:  0.272, Validation Accuracy:  0.316, Loss:  4.140\n",
      "Epoch   0 Batch   73/538 - Train Accuracy:  0.236, Validation Accuracy:  0.316, Loss:  4.244\n",
      "Epoch   0 Batch   74/538 - Train Accuracy:  0.280, Validation Accuracy:  0.316, Loss:  4.150\n",
      "Epoch   0 Batch   75/538 - Train Accuracy:  0.284, Validation Accuracy:  0.316, Loss:  4.129\n",
      "Epoch   0 Batch   76/538 - Train Accuracy:  0.235, Validation Accuracy:  0.316, Loss:  4.199\n",
      "Epoch   0 Batch   77/538 - Train Accuracy:  0.234, Validation Accuracy:  0.316, Loss:  4.180\n",
      "Epoch   0 Batch   78/538 - Train Accuracy:  0.279, Validation Accuracy:  0.316, Loss:  4.093\n",
      "Epoch   0 Batch   79/538 - Train Accuracy:  0.270, Validation Accuracy:  0.316, Loss:  4.085\n",
      "Epoch   0 Batch   80/538 - Train Accuracy:  0.235, Validation Accuracy:  0.316, Loss:  4.143\n",
      "Epoch   0 Batch   81/538 - Train Accuracy:  0.233, Validation Accuracy:  0.316, Loss:  4.183\n",
      "Epoch   0 Batch   82/538 - Train Accuracy:  0.246, Validation Accuracy:  0.316, Loss:  4.137\n",
      "Epoch   0 Batch   83/538 - Train Accuracy:  0.235, Validation Accuracy:  0.316, Loss:  4.146\n",
      "Epoch   0 Batch   84/538 - Train Accuracy:  0.272, Validation Accuracy:  0.316, Loss:  4.081\n",
      "Epoch   0 Batch   85/538 - Train Accuracy:  0.302, Validation Accuracy:  0.316, Loss:  4.027\n",
      "Epoch   0 Batch   86/538 - Train Accuracy:  0.242, Validation Accuracy:  0.316, Loss:  4.175\n",
      "Epoch   0 Batch   87/538 - Train Accuracy:  0.243, Validation Accuracy:  0.316, Loss:  4.142\n",
      "Epoch   0 Batch   88/538 - Train Accuracy:  0.256, Validation Accuracy:  0.316, Loss:  4.104\n",
      "Epoch   0 Batch   89/538 - Train Accuracy:  0.251, Validation Accuracy:  0.316, Loss:  4.127\n",
      "Epoch   0 Batch   90/538 - Train Accuracy:  0.277, Validation Accuracy:  0.316, Loss:  4.037\n",
      "Epoch   0 Batch   91/538 - Train Accuracy:  0.230, Validation Accuracy:  0.316, Loss:  4.109\n",
      "Epoch   0 Batch   92/538 - Train Accuracy:  0.255, Validation Accuracy:  0.316, Loss:  4.102\n",
      "Epoch   0 Batch   93/538 - Train Accuracy:  0.227, Validation Accuracy:  0.316, Loss:  4.132\n",
      "Epoch   0 Batch   94/538 - Train Accuracy:  0.229, Validation Accuracy:  0.316, Loss:  4.126\n",
      "Epoch   0 Batch   95/538 - Train Accuracy:  0.302, Validation Accuracy:  0.316, Loss:  3.983\n",
      "Epoch   0 Batch   96/538 - Train Accuracy:  0.282, Validation Accuracy:  0.316, Loss:  3.987\n",
      "Epoch   0 Batch   97/538 - Train Accuracy:  0.231, Validation Accuracy:  0.316, Loss:  4.108\n",
      "Epoch   0 Batch   98/538 - Train Accuracy:  0.286, Validation Accuracy:  0.316, Loss:  4.003\n",
      "Epoch   0 Batch   99/538 - Train Accuracy:  0.245, Validation Accuracy:  0.316, Loss:  4.068\n",
      "Epoch   0 Batch  100/538 - Train Accuracy:  0.242, Validation Accuracy:  0.316, Loss:  4.082\n",
      "Epoch   0 Batch  101/538 - Train Accuracy:  0.249, Validation Accuracy:  0.316, Loss:  4.053\n",
      "Epoch   0 Batch  102/538 - Train Accuracy:  0.246, Validation Accuracy:  0.316, Loss:  4.063\n",
      "Epoch   0 Batch  103/538 - Train Accuracy:  0.268, Validation Accuracy:  0.316, Loss:  4.003\n",
      "Epoch   0 Batch  104/538 - Train Accuracy:  0.271, Validation Accuracy:  0.316, Loss:  3.985\n",
      "Epoch   0 Batch  105/538 - Train Accuracy:  0.276, Validation Accuracy:  0.316, Loss:  3.958\n",
      "Epoch   0 Batch  106/538 - Train Accuracy:  0.240, Validation Accuracy:  0.316, Loss:  4.074\n",
      "Epoch   0 Batch  107/538 - Train Accuracy:  0.234, Validation Accuracy:  0.316, Loss:  4.065\n",
      "Epoch   0 Batch  108/538 - Train Accuracy:  0.255, Validation Accuracy:  0.316, Loss:  4.023\n",
      "Epoch   0 Batch  109/538 - Train Accuracy:  0.241, Validation Accuracy:  0.316, Loss:  4.033\n",
      "Epoch   0 Batch  110/538 - Train Accuracy:  0.243, Validation Accuracy:  0.316, Loss:  4.067\n",
      "Epoch   0 Batch  111/538 - Train Accuracy:  0.277, Validation Accuracy:  0.316, Loss:  3.899\n",
      "Epoch   0 Batch  112/538 - Train Accuracy:  0.237, Validation Accuracy:  0.317, Loss:  4.053\n",
      "Epoch   0 Batch  113/538 - Train Accuracy:  0.241, Validation Accuracy:  0.317, Loss:  4.045\n",
      "Epoch   0 Batch  114/538 - Train Accuracy:  0.298, Validation Accuracy:  0.330, Loss:  3.880\n",
      "Epoch   0 Batch  115/538 - Train Accuracy:  0.255, Validation Accuracy:  0.337, Loss:  3.994\n",
      "Epoch   0 Batch  116/538 - Train Accuracy:  0.318, Validation Accuracy:  0.346, Loss:  3.888\n",
      "Epoch   0 Batch  117/538 - Train Accuracy:  0.318, Validation Accuracy:  0.346, Loss:  3.865\n",
      "Epoch   0 Batch  118/538 - Train Accuracy:  0.307, Validation Accuracy:  0.347, Loss:  3.920\n",
      "Epoch   0 Batch  119/538 - Train Accuracy:  0.314, Validation Accuracy:  0.347, Loss:  3.888\n",
      "Epoch   0 Batch  120/538 - Train Accuracy:  0.274, Validation Accuracy:  0.349, Loss:  3.918\n",
      "Epoch   0 Batch  121/538 - Train Accuracy:  0.323, Validation Accuracy:  0.349, Loss:  3.833\n",
      "Epoch   0 Batch  122/538 - Train Accuracy:  0.302, Validation Accuracy:  0.349, Loss:  3.882\n",
      "Epoch   0 Batch  123/538 - Train Accuracy:  0.322, Validation Accuracy:  0.349, Loss:  3.860\n",
      "Epoch   0 Batch  124/538 - Train Accuracy:  0.343, Validation Accuracy:  0.356, Loss:  3.782\n",
      "Epoch   0 Batch  125/538 - Train Accuracy:  0.315, Validation Accuracy:  0.362, Loss:  3.864\n",
      "Epoch   0 Batch  126/538 - Train Accuracy:  0.351, Validation Accuracy:  0.361, Loss:  3.763\n",
      "Epoch   0 Batch  127/538 - Train Accuracy:  0.285, Validation Accuracy:  0.360, Loss:  3.941\n",
      "Epoch   0 Batch  128/538 - Train Accuracy:  0.326, Validation Accuracy:  0.362, Loss:  3.789\n",
      "Epoch   0 Batch  129/538 - Train Accuracy:  0.324, Validation Accuracy:  0.364, Loss:  3.807\n",
      "Epoch   0 Batch  130/538 - Train Accuracy:  0.324, Validation Accuracy:  0.368, Loss:  3.828\n",
      "Epoch   0 Batch  131/538 - Train Accuracy:  0.296, Validation Accuracy:  0.367, Loss:  3.902\n",
      "Epoch   0 Batch  132/538 - Train Accuracy:  0.331, Validation Accuracy:  0.366, Loss:  3.801\n",
      "Epoch   0 Batch  133/538 - Train Accuracy:  0.355, Validation Accuracy:  0.369, Loss:  3.712\n",
      "Epoch   0 Batch  134/538 - Train Accuracy:  0.293, Validation Accuracy:  0.372, Loss:  3.936\n",
      "Epoch   0 Batch  135/538 - Train Accuracy:  0.339, Validation Accuracy:  0.375, Loss:  3.845\n",
      "Epoch   0 Batch  136/538 - Train Accuracy:  0.330, Validation Accuracy:  0.375, Loss:  3.799\n",
      "Epoch   0 Batch  137/538 - Train Accuracy:  0.345, Validation Accuracy:  0.374, Loss:  3.766\n",
      "Epoch   0 Batch  138/538 - Train Accuracy:  0.339, Validation Accuracy:  0.377, Loss:  3.786\n",
      "Epoch   0 Batch  139/538 - Train Accuracy:  0.305, Validation Accuracy:  0.380, Loss:  3.883\n",
      "Epoch   0 Batch  140/538 - Train Accuracy:  0.320, Validation Accuracy:  0.377, Loss:  3.865\n",
      "Epoch   0 Batch  141/538 - Train Accuracy:  0.316, Validation Accuracy:  0.371, Loss:  3.857\n",
      "Epoch   0 Batch  142/538 - Train Accuracy:  0.345, Validation Accuracy:  0.367, Loss:  3.700\n",
      "Epoch   0 Batch  143/538 - Train Accuracy:  0.287, Validation Accuracy:  0.367, Loss:  3.896\n",
      "Epoch   0 Batch  144/538 - Train Accuracy:  0.315, Validation Accuracy:  0.368, Loss:  3.810\n",
      "Epoch   0 Batch  145/538 - Train Accuracy:  0.344, Validation Accuracy:  0.369, Loss:  3.723\n",
      "Epoch   0 Batch  146/538 - Train Accuracy:  0.359, Validation Accuracy:  0.370, Loss:  3.680\n",
      "Epoch   0 Batch  147/538 - Train Accuracy:  0.351, Validation Accuracy:  0.369, Loss:  3.711\n",
      "Epoch   0 Batch  148/538 - Train Accuracy:  0.297, Validation Accuracy:  0.371, Loss:  3.837\n",
      "Epoch   0 Batch  149/538 - Train Accuracy:  0.314, Validation Accuracy:  0.373, Loss:  3.825\n",
      "Epoch   0 Batch  150/538 - Train Accuracy:  0.307, Validation Accuracy:  0.374, Loss:  3.834\n",
      "Epoch   0 Batch  151/538 - Train Accuracy:  0.339, Validation Accuracy:  0.373, Loss:  3.737\n",
      "Epoch   0 Batch  152/538 - Train Accuracy:  0.343, Validation Accuracy:  0.374, Loss:  3.689\n",
      "Epoch   0 Batch  153/538 - Train Accuracy:  0.327, Validation Accuracy:  0.374, Loss:  3.745\n",
      "Epoch   0 Batch  154/538 - Train Accuracy:  0.332, Validation Accuracy:  0.372, Loss:  3.723\n",
      "Epoch   0 Batch  155/538 - Train Accuracy:  0.344, Validation Accuracy:  0.371, Loss:  3.711\n",
      "Epoch   0 Batch  156/538 - Train Accuracy:  0.305, Validation Accuracy:  0.370, Loss:  3.812\n",
      "Epoch   0 Batch  157/538 - Train Accuracy:  0.336, Validation Accuracy:  0.370, Loss:  3.716\n",
      "Epoch   0 Batch  158/538 - Train Accuracy:  0.308, Validation Accuracy:  0.371, Loss:  3.800\n",
      "Epoch   0 Batch  159/538 - Train Accuracy:  0.307, Validation Accuracy:  0.372, Loss:  3.804\n",
      "Epoch   0 Batch  160/538 - Train Accuracy:  0.335, Validation Accuracy:  0.374, Loss:  3.678\n",
      "Epoch   0 Batch  161/538 - Train Accuracy:  0.316, Validation Accuracy:  0.372, Loss:  3.740\n",
      "Epoch   0 Batch  162/538 - Train Accuracy:  0.348, Validation Accuracy:  0.371, Loss:  3.655\n",
      "Epoch   0 Batch  163/538 - Train Accuracy:  0.337, Validation Accuracy:  0.371, Loss:  3.698\n",
      "Epoch   0 Batch  164/538 - Train Accuracy:  0.310, Validation Accuracy:  0.371, Loss:  3.764\n",
      "Epoch   0 Batch  165/538 - Train Accuracy:  0.343, Validation Accuracy:  0.371, Loss:  3.657\n",
      "Epoch   0 Batch  166/538 - Train Accuracy:  0.310, Validation Accuracy:  0.371, Loss:  3.752\n",
      "Epoch   0 Batch  167/538 - Train Accuracy:  0.344, Validation Accuracy:  0.371, Loss:  3.637\n",
      "Epoch   0 Batch  168/538 - Train Accuracy:  0.306, Validation Accuracy:  0.371, Loss:  3.740\n",
      "Epoch   0 Batch  169/538 - Train Accuracy:  0.311, Validation Accuracy:  0.370, Loss:  3.729\n",
      "Epoch   0 Batch  170/538 - Train Accuracy:  0.329, Validation Accuracy:  0.368, Loss:  3.668\n",
      "Epoch   0 Batch  171/538 - Train Accuracy:  0.294, Validation Accuracy:  0.366, Loss:  3.777\n",
      "Epoch   0 Batch  172/538 - Train Accuracy:  0.326, Validation Accuracy:  0.367, Loss:  3.663\n",
      "Epoch   0 Batch  173/538 - Train Accuracy:  0.334, Validation Accuracy:  0.363, Loss:  3.659\n",
      "Epoch   0 Batch  174/538 - Train Accuracy:  0.278, Validation Accuracy:  0.360, Loss:  3.767\n",
      "Epoch   0 Batch  175/538 - Train Accuracy:  0.285, Validation Accuracy:  0.362, Loss:  3.814\n",
      "Epoch   0 Batch  176/538 - Train Accuracy:  0.288, Validation Accuracy:  0.364, Loss:  3.755\n",
      "Epoch   0 Batch  177/538 - Train Accuracy:  0.327, Validation Accuracy:  0.366, Loss:  3.668\n",
      "Epoch   0 Batch  178/538 - Train Accuracy:  0.339, Validation Accuracy:  0.363, Loss:  3.599\n",
      "Epoch   0 Batch  179/538 - Train Accuracy:  0.284, Validation Accuracy:  0.359, Loss:  3.711\n",
      "Epoch   0 Batch  180/538 - Train Accuracy:  0.318, Validation Accuracy:  0.355, Loss:  3.610\n",
      "Epoch   0 Batch  181/538 - Train Accuracy:  0.273, Validation Accuracy:  0.352, Loss:  3.732\n",
      "Epoch   0 Batch  182/538 - Train Accuracy:  0.273, Validation Accuracy:  0.355, Loss:  3.759\n",
      "Epoch   0 Batch  183/538 - Train Accuracy:  0.314, Validation Accuracy:  0.358, Loss:  3.582\n",
      "Epoch   0 Batch  184/538 - Train Accuracy:  0.330, Validation Accuracy:  0.360, Loss:  3.605\n",
      "Epoch   0 Batch  185/538 - Train Accuracy:  0.303, Validation Accuracy:  0.362, Loss:  3.705\n",
      "Epoch   0 Batch  186/538 - Train Accuracy:  0.314, Validation Accuracy:  0.361, Loss:  3.654\n",
      "Epoch   0 Batch  187/538 - Train Accuracy:  0.352, Validation Accuracy:  0.358, Loss:  3.532\n",
      "Epoch   0 Batch  188/538 - Train Accuracy:  0.284, Validation Accuracy:  0.356, Loss:  3.690\n",
      "Epoch   0 Batch  189/538 - Train Accuracy:  0.281, Validation Accuracy:  0.356, Loss:  3.692\n",
      "Epoch   0 Batch  190/538 - Train Accuracy:  0.317, Validation Accuracy:  0.356, Loss:  3.608\n",
      "Epoch   0 Batch  191/538 - Train Accuracy:  0.317, Validation Accuracy:  0.353, Loss:  3.640\n",
      "Epoch   0 Batch  192/538 - Train Accuracy:  0.310, Validation Accuracy:  0.352, Loss:  3.667\n",
      "Epoch   0 Batch  193/538 - Train Accuracy:  0.308, Validation Accuracy:  0.350, Loss:  3.584\n",
      "Epoch   0 Batch  194/538 - Train Accuracy:  0.260, Validation Accuracy:  0.349, Loss:  3.706\n",
      "Epoch   0 Batch  195/538 - Train Accuracy:  0.313, Validation Accuracy:  0.348, Loss:  3.599\n",
      "Epoch   0 Batch  196/538 - Train Accuracy:  0.306, Validation Accuracy:  0.347, Loss:  3.596\n",
      "Epoch   0 Batch  197/538 - Train Accuracy:  0.306, Validation Accuracy:  0.344, Loss:  3.578\n",
      "Epoch   0 Batch  198/538 - Train Accuracy:  0.306, Validation Accuracy:  0.343, Loss:  3.519\n",
      "Epoch   0 Batch  199/538 - Train Accuracy:  0.281, Validation Accuracy:  0.351, Loss:  3.732\n",
      "Epoch   0 Batch  200/538 - Train Accuracy:  0.273, Validation Accuracy:  0.352, Loss:  3.658\n",
      "Epoch   0 Batch  201/538 - Train Accuracy:  0.313, Validation Accuracy:  0.351, Loss:  3.546\n",
      "Epoch   0 Batch  202/538 - Train Accuracy:  0.254, Validation Accuracy:  0.351, Loss:  3.711\n",
      "Epoch   0 Batch  203/538 - Train Accuracy:  0.277, Validation Accuracy:  0.351, Loss:  3.701\n",
      "Epoch   0 Batch  204/538 - Train Accuracy:  0.274, Validation Accuracy:  0.351, Loss:  3.658\n",
      "Epoch   0 Batch  205/538 - Train Accuracy:  0.314, Validation Accuracy:  0.351, Loss:  3.520\n",
      "Epoch   0 Batch  206/538 - Train Accuracy:  0.272, Validation Accuracy:  0.350, Loss:  3.681\n",
      "Epoch   0 Batch  207/538 - Train Accuracy:  0.306, Validation Accuracy:  0.350, Loss:  3.564\n",
      "Epoch   0 Batch  208/538 - Train Accuracy:  0.272, Validation Accuracy:  0.345, Loss:  3.649\n",
      "Epoch   0 Batch  209/538 - Train Accuracy:  0.275, Validation Accuracy:  0.344, Loss:  3.655\n",
      "Epoch   0 Batch  210/538 - Train Accuracy:  0.306, Validation Accuracy:  0.346, Loss:  3.558\n",
      "Epoch   0 Batch  211/538 - Train Accuracy:  0.263, Validation Accuracy:  0.346, Loss:  3.677\n",
      "Epoch   0 Batch  212/538 - Train Accuracy:  0.298, Validation Accuracy:  0.342, Loss:  3.511\n",
      "Epoch   0 Batch  213/538 - Train Accuracy:  0.295, Validation Accuracy:  0.339, Loss:  3.592\n",
      "Epoch   0 Batch  214/538 - Train Accuracy:  0.264, Validation Accuracy:  0.339, Loss:  3.662\n",
      "Epoch   0 Batch  215/538 - Train Accuracy:  0.266, Validation Accuracy:  0.339, Loss:  3.692\n",
      "Epoch   0 Batch  216/538 - Train Accuracy:  0.253, Validation Accuracy:  0.339, Loss:  3.697\n",
      "Epoch   0 Batch  217/538 - Train Accuracy:  0.298, Validation Accuracy:  0.339, Loss:  3.549\n",
      "Epoch   0 Batch  218/538 - Train Accuracy:  0.267, Validation Accuracy:  0.339, Loss:  3.646\n",
      "Epoch   0 Batch  219/538 - Train Accuracy:  0.250, Validation Accuracy:  0.339, Loss:  3.648\n",
      "Epoch   0 Batch  220/538 - Train Accuracy:  0.291, Validation Accuracy:  0.339, Loss:  3.584\n",
      "Epoch   0 Batch  221/538 - Train Accuracy:  0.302, Validation Accuracy:  0.340, Loss:  3.545\n",
      "Epoch   0 Batch  222/538 - Train Accuracy:  0.304, Validation Accuracy:  0.341, Loss:  3.534\n",
      "Epoch   0 Batch  223/538 - Train Accuracy:  0.256, Validation Accuracy:  0.341, Loss:  3.619\n",
      "Epoch   0 Batch  224/538 - Train Accuracy:  0.255, Validation Accuracy:  0.341, Loss:  3.646\n",
      "Epoch   0 Batch  225/538 - Train Accuracy:  0.299, Validation Accuracy:  0.340, Loss:  3.507\n",
      "Epoch   0 Batch  226/538 - Train Accuracy:  0.302, Validation Accuracy:  0.340, Loss:  3.525\n",
      "Epoch   0 Batch  227/538 - Train Accuracy:  0.334, Validation Accuracy:  0.340, Loss:  3.427\n",
      "Epoch   0 Batch  228/538 - Train Accuracy:  0.289, Validation Accuracy:  0.339, Loss:  3.535\n",
      "Epoch   0 Batch  229/538 - Train Accuracy:  0.295, Validation Accuracy:  0.339, Loss:  3.502\n",
      "Epoch   0 Batch  230/538 - Train Accuracy:  0.259, Validation Accuracy:  0.339, Loss:  3.608\n",
      "Epoch   0 Batch  231/538 - Train Accuracy:  0.270, Validation Accuracy:  0.339, Loss:  3.617\n",
      "Epoch   0 Batch  232/538 - Train Accuracy:  0.270, Validation Accuracy:  0.339, Loss:  3.597\n",
      "Epoch   0 Batch  233/538 - Train Accuracy:  0.296, Validation Accuracy:  0.339, Loss:  3.476\n",
      "Epoch   0 Batch  234/538 - Train Accuracy:  0.263, Validation Accuracy:  0.339, Loss:  3.617\n",
      "Epoch   0 Batch  235/538 - Train Accuracy:  0.297, Validation Accuracy:  0.339, Loss:  3.470\n",
      "Epoch   0 Batch  236/538 - Train Accuracy:  0.260, Validation Accuracy:  0.339, Loss:  3.556\n",
      "Epoch   0 Batch  237/538 - Train Accuracy:  0.278, Validation Accuracy:  0.340, Loss:  3.539\n",
      "Epoch   0 Batch  238/538 - Train Accuracy:  0.302, Validation Accuracy:  0.341, Loss:  3.433\n",
      "Epoch   0 Batch  239/538 - Train Accuracy:  0.270, Validation Accuracy:  0.342, Loss:  3.552\n",
      "Epoch   0 Batch  240/538 - Train Accuracy:  0.262, Validation Accuracy:  0.342, Loss:  3.526\n",
      "Epoch   0 Batch  241/538 - Train Accuracy:  0.267, Validation Accuracy:  0.341, Loss:  3.584\n",
      "Epoch   0 Batch  242/538 - Train Accuracy:  0.263, Validation Accuracy:  0.341, Loss:  3.578\n",
      "Epoch   0 Batch  243/538 - Train Accuracy:  0.228, Validation Accuracy:  0.340, Loss:  3.630\n",
      "Epoch   0 Batch  244/538 - Train Accuracy:  0.298, Validation Accuracy:  0.340, Loss:  3.510\n",
      "Epoch   0 Batch  245/538 - Train Accuracy:  0.266, Validation Accuracy:  0.340, Loss:  3.548\n",
      "Epoch   0 Batch  246/538 - Train Accuracy:  0.305, Validation Accuracy:  0.340, Loss:  3.480\n",
      "Epoch   0 Batch  247/538 - Train Accuracy:  0.254, Validation Accuracy:  0.341, Loss:  3.572\n",
      "Epoch   0 Batch  248/538 - Train Accuracy:  0.269, Validation Accuracy:  0.342, Loss:  3.505\n",
      "Epoch   0 Batch  249/538 - Train Accuracy:  0.302, Validation Accuracy:  0.343, Loss:  3.505\n",
      "Epoch   0 Batch  250/538 - Train Accuracy:  0.272, Validation Accuracy:  0.343, Loss:  3.527\n",
      "Epoch   0 Batch  251/538 - Train Accuracy:  0.260, Validation Accuracy:  0.343, Loss:  3.560\n",
      "Epoch   0 Batch  252/538 - Train Accuracy:  0.299, Validation Accuracy:  0.343, Loss:  3.428\n",
      "Epoch   0 Batch  253/538 - Train Accuracy:  0.305, Validation Accuracy:  0.343, Loss:  3.432\n",
      "Epoch   0 Batch  254/538 - Train Accuracy:  0.271, Validation Accuracy:  0.343, Loss:  3.504\n",
      "Epoch   0 Batch  255/538 - Train Accuracy:  0.272, Validation Accuracy:  0.343, Loss:  3.519\n",
      "Epoch   0 Batch  256/538 - Train Accuracy:  0.275, Validation Accuracy:  0.343, Loss:  3.527\n",
      "Epoch   0 Batch  257/538 - Train Accuracy:  0.300, Validation Accuracy:  0.343, Loss:  3.442\n",
      "Epoch   0 Batch  258/538 - Train Accuracy:  0.312, Validation Accuracy:  0.343, Loss:  3.408\n",
      "Epoch   0 Batch  259/538 - Train Accuracy:  0.307, Validation Accuracy:  0.343, Loss:  3.434\n",
      "Epoch   0 Batch  260/538 - Train Accuracy:  0.296, Validation Accuracy:  0.343, Loss:  3.400\n",
      "Epoch   0 Batch  261/538 - Train Accuracy:  0.263, Validation Accuracy:  0.344, Loss:  3.525\n",
      "Epoch   0 Batch  262/538 - Train Accuracy:  0.268, Validation Accuracy:  0.343, Loss:  3.570\n",
      "Epoch   0 Batch  263/538 - Train Accuracy:  0.271, Validation Accuracy:  0.343, Loss:  3.475\n",
      "Epoch   0 Batch  264/538 - Train Accuracy:  0.268, Validation Accuracy:  0.343, Loss:  3.495\n",
      "Epoch   0 Batch  265/538 - Train Accuracy:  0.264, Validation Accuracy:  0.343, Loss:  3.536\n",
      "Epoch   0 Batch  266/538 - Train Accuracy:  0.300, Validation Accuracy:  0.343, Loss:  3.427\n",
      "Epoch   0 Batch  267/538 - Train Accuracy:  0.265, Validation Accuracy:  0.343, Loss:  3.461\n",
      "Epoch   0 Batch  268/538 - Train Accuracy:  0.313, Validation Accuracy:  0.343, Loss:  3.374\n",
      "Epoch   0 Batch  269/538 - Train Accuracy:  0.274, Validation Accuracy:  0.344, Loss:  3.439\n",
      "Epoch   0 Batch  270/538 - Train Accuracy:  0.266, Validation Accuracy:  0.343, Loss:  3.465\n",
      "Epoch   0 Batch  271/538 - Train Accuracy:  0.270, Validation Accuracy:  0.343, Loss:  3.469\n",
      "Epoch   0 Batch  272/538 - Train Accuracy:  0.254, Validation Accuracy:  0.343, Loss:  3.553\n",
      "Epoch   0 Batch  273/538 - Train Accuracy:  0.276, Validation Accuracy:  0.343, Loss:  3.481\n",
      "Epoch   0 Batch  274/538 - Train Accuracy:  0.256, Validation Accuracy:  0.343, Loss:  3.524\n",
      "Epoch   0 Batch  275/538 - Train Accuracy:  0.267, Validation Accuracy:  0.343, Loss:  3.458\n",
      "Epoch   0 Batch  276/538 - Train Accuracy:  0.274, Validation Accuracy:  0.343, Loss:  3.489\n",
      "Epoch   0 Batch  277/538 - Train Accuracy:  0.268, Validation Accuracy:  0.343, Loss:  3.443\n",
      "Epoch   0 Batch  278/538 - Train Accuracy:  0.273, Validation Accuracy:  0.343, Loss:  3.405\n",
      "Epoch   0 Batch  279/538 - Train Accuracy:  0.275, Validation Accuracy:  0.343, Loss:  3.420\n",
      "Epoch   0 Batch  280/538 - Train Accuracy:  0.309, Validation Accuracy:  0.343, Loss:  3.357\n",
      "Epoch   0 Batch  281/538 - Train Accuracy:  0.281, Validation Accuracy:  0.343, Loss:  3.410\n",
      "Epoch   0 Batch  282/538 - Train Accuracy:  0.301, Validation Accuracy:  0.344, Loss:  3.389\n",
      "Epoch   0 Batch  283/538 - Train Accuracy:  0.267, Validation Accuracy:  0.344, Loss:  3.445\n",
      "Epoch   0 Batch  284/538 - Train Accuracy:  0.278, Validation Accuracy:  0.344, Loss:  3.412\n",
      "Epoch   0 Batch  285/538 - Train Accuracy:  0.308, Validation Accuracy:  0.344, Loss:  3.336\n",
      "Epoch   0 Batch  286/538 - Train Accuracy:  0.281, Validation Accuracy:  0.344, Loss:  3.435\n",
      "Epoch   0 Batch  287/538 - Train Accuracy:  0.311, Validation Accuracy:  0.344, Loss:  3.365\n"
     ]
    }
   ],
   "source": [
    "\"\"\"\n",
    "DON'T MODIFY ANYTHING IN THIS CELL\n",
    "\"\"\"\n",
    "import time\n",
    "\n",
    "def get_accuracy(target, logits):\n",
    "    \"\"\"\n",
    "    Calculate accuracy\n",
    "    \"\"\"\n",
    "    max_seq = max(target.shape[1], logits.shape[1])\n",
    "    if max_seq - target.shape[1]:\n",
    "        target = np.pad(\n",
    "            target,\n",
    "            [(0,0),(0,max_seq - target.shape[1])],\n",
    "            'constant')\n",
    "    if max_seq - logits.shape[1]:\n",
    "        logits = np.pad(\n",
    "            logits,\n",
    "            [(0,0),(0,max_seq - logits.shape[1]), (0,0)],\n",
    "            'constant')\n",
    "\n",
    "    return np.mean(np.equal(target, np.argmax(logits, 2)))\n",
    "\n",
    "train_source = source_int_text[batch_size:]\n",
    "train_target = target_int_text[batch_size:]\n",
    "\n",
    "valid_source = helper.pad_sentence_batch(source_int_text[:batch_size])\n",
    "valid_target = helper.pad_sentence_batch(target_int_text[:batch_size])\n",
    "\n",
    "with tf.Session(graph=train_graph) as sess:\n",
    "    sess.run(tf.global_variables_initializer())\n",
    "\n",
    "    for epoch_i in range(epochs):\n",
    "        for batch_i, (source_batch, target_batch) in enumerate(\n",
    "                helper.batch_data(train_source, train_target, batch_size)):\n",
    "            start_time = time.time()\n",
    "            \n",
    "            _, loss = sess.run(\n",
    "                [train_op, cost],\n",
    "                {input_data: source_batch,\n",
    "                 targets: target_batch,\n",
    "                 lr: learning_rate,\n",
    "                 sequence_length: target_batch.shape[1],\n",
    "                 keep_prob: keep_probability})\n",
    "            \n",
    "            batch_train_logits = sess.run(\n",
    "                inference_logits,\n",
    "                {input_data: source_batch, keep_prob: 1.0})\n",
    "            batch_valid_logits = sess.run(\n",
    "                inference_logits,\n",
    "                {input_data: valid_source, keep_prob: 1.0})\n",
    "                \n",
    "            train_acc = get_accuracy(target_batch, batch_train_logits)\n",
    "            valid_acc = get_accuracy(np.array(valid_target), batch_valid_logits)\n",
    "            end_time = time.time()\n",
    "            print('Epoch {:>3} Batch {:>4}/{} - Train Accuracy: {:>6.3f}, Validation Accuracy: {:>6.3f}, Loss: {:>6.3f}'\n",
    "                  .format(epoch_i, batch_i, len(source_int_text) // batch_size, train_acc, valid_acc, loss))\n",
    "\n",
    "    # Save Model\n",
    "    saver = tf.train.Saver()\n",
    "    saver.save(sess, save_path)\n",
    "    print('Model Trained and Saved')"
   ]
  },
  {
   "cell_type": "markdown",
   "metadata": {
    "deletable": true,
    "editable": true
   },
   "source": [
    "### Save Parameters\n",
    "Save the `batch_size` and `save_path` parameters for inference."
   ]
  },
  {
   "cell_type": "code",
   "execution_count": 30,
   "metadata": {
    "collapsed": false,
    "deletable": true,
    "editable": true
   },
   "outputs": [],
   "source": [
    "\"\"\"\n",
    "DON'T MODIFY ANYTHING IN THIS CELL\n",
    "\"\"\"\n",
    "# Save parameters for checkpoint\n",
    "helper.save_params(save_path)"
   ]
  },
  {
   "cell_type": "markdown",
   "metadata": {
    "deletable": true,
    "editable": true
   },
   "source": [
    "# Checkpoint"
   ]
  },
  {
   "cell_type": "code",
   "execution_count": 31,
   "metadata": {
    "collapsed": false,
    "deletable": true,
    "editable": true
   },
   "outputs": [],
   "source": [
    "\"\"\"\n",
    "DON'T MODIFY ANYTHING IN THIS CELL\n",
    "\"\"\"\n",
    "import tensorflow as tf\n",
    "import numpy as np\n",
    "import helper\n",
    "import problem_unittests as tests\n",
    "\n",
    "_, (source_vocab_to_int, target_vocab_to_int), (source_int_to_vocab, target_int_to_vocab) = helper.load_preprocess()\n",
    "load_path = helper.load_params()"
   ]
  },
  {
   "cell_type": "markdown",
   "metadata": {
    "deletable": true,
    "editable": true
   },
   "source": [
    "## Sentence to Sequence\n",
    "To feed a sentence into the model for translation, you first need to preprocess it.  Implement the function `sentence_to_seq()` to preprocess new sentences.\n",
    "\n",
    "- Convert the sentence to lowercase\n",
    "- Convert words into ids using `vocab_to_int`\n",
    " - Convert words not in the vocabulary, to the `<UNK>` word id."
   ]
  },
  {
   "cell_type": "code",
   "execution_count": 32,
   "metadata": {
    "collapsed": false,
    "deletable": true,
    "editable": true
   },
   "outputs": [
    {
     "name": "stdout",
     "output_type": "stream",
     "text": [
      "[3, 6, 5, 2, 4]\n",
      "Tests Passed\n"
     ]
    }
   ],
   "source": [
    "def sentence_to_seq(sentence, vocab_to_int):\n",
    "    \"\"\"\n",
    "    Convert a sentence to a sequence of ids\n",
    "    :param sentence: String\n",
    "    :param vocab_to_int: Dictionary to go from the words to an id\n",
    "    :return: List of word ids\n",
    "    \"\"\"\n",
    "    get_id = lambda w: vocab_to_int[w] if w in vocab_to_int else vocab_to_int['<UNK>']\n",
    "    x = [get_id(word.lower()) for word in sentence.split(' ')]\n",
    "    print(x)\n",
    "    return x\n",
    "\n",
    "\n",
    "\"\"\"\n",
    "DON'T MODIFY ANYTHING IN THIS CELL THAT IS BELOW THIS LINE\n",
    "\"\"\"\n",
    "tests.test_sentence_to_seq(sentence_to_seq)"
   ]
  },
  {
   "cell_type": "markdown",
   "metadata": {
    "deletable": true,
    "editable": true
   },
   "source": [
    "## Translate\n",
    "This will translate `translate_sentence` from English to French."
   ]
  },
  {
   "cell_type": "code",
   "execution_count": 33,
   "metadata": {
    "collapsed": false,
    "deletable": true,
    "editable": true
   },
   "outputs": [
    {
     "name": "stdout",
     "output_type": "stream",
     "text": [
      "[190, 106, 33, 77, 30, 156, 214]\n"
     ]
    },
    {
     "ename": "OSError",
     "evalue": "File checkpoints/dev.meta does not exist.",
     "output_type": "error",
     "traceback": [
      "\u001b[1;31m---------------------------------------------------------------------------\u001b[0m",
      "\u001b[1;31mOSError\u001b[0m                                   Traceback (most recent call last)",
      "\u001b[1;32m<ipython-input-33-3275c3359f72>\u001b[0m in \u001b[0;36m<module>\u001b[1;34m()\u001b[0m\n\u001b[0;32m     10\u001b[0m \u001b[1;32mwith\u001b[0m \u001b[0mtf\u001b[0m\u001b[1;33m.\u001b[0m\u001b[0mSession\u001b[0m\u001b[1;33m(\u001b[0m\u001b[0mgraph\u001b[0m\u001b[1;33m=\u001b[0m\u001b[0mloaded_graph\u001b[0m\u001b[1;33m)\u001b[0m \u001b[1;32mas\u001b[0m \u001b[0msess\u001b[0m\u001b[1;33m:\u001b[0m\u001b[1;33m\u001b[0m\u001b[0m\n\u001b[0;32m     11\u001b[0m     \u001b[1;31m# Load saved model\u001b[0m\u001b[1;33m\u001b[0m\u001b[1;33m\u001b[0m\u001b[0m\n\u001b[1;32m---> 12\u001b[1;33m     \u001b[0mloader\u001b[0m \u001b[1;33m=\u001b[0m \u001b[0mtf\u001b[0m\u001b[1;33m.\u001b[0m\u001b[0mtrain\u001b[0m\u001b[1;33m.\u001b[0m\u001b[0mimport_meta_graph\u001b[0m\u001b[1;33m(\u001b[0m\u001b[0mload_path\u001b[0m \u001b[1;33m+\u001b[0m \u001b[1;34m'.meta'\u001b[0m\u001b[1;33m)\u001b[0m\u001b[1;33m\u001b[0m\u001b[0m\n\u001b[0m\u001b[0;32m     13\u001b[0m     \u001b[0mloader\u001b[0m\u001b[1;33m.\u001b[0m\u001b[0mrestore\u001b[0m\u001b[1;33m(\u001b[0m\u001b[0msess\u001b[0m\u001b[1;33m,\u001b[0m \u001b[0mload_path\u001b[0m\u001b[1;33m)\u001b[0m\u001b[1;33m\u001b[0m\u001b[0m\n\u001b[0;32m     14\u001b[0m \u001b[1;33m\u001b[0m\u001b[0m\n",
      "\u001b[1;32mC:\\Users\\Flavio\\Anaconda3\\envs\\udacity\\lib\\site-packages\\tensorflow\\python\\training\\saver.py\u001b[0m in \u001b[0;36mimport_meta_graph\u001b[1;34m(meta_graph_or_file, clear_devices, import_scope, **kwargs)\u001b[0m\n\u001b[0;32m   1557\u001b[0m   \"\"\"\n\u001b[0;32m   1558\u001b[0m   \u001b[1;32mif\u001b[0m \u001b[1;32mnot\u001b[0m \u001b[0misinstance\u001b[0m\u001b[1;33m(\u001b[0m\u001b[0mmeta_graph_or_file\u001b[0m\u001b[1;33m,\u001b[0m \u001b[0mmeta_graph_pb2\u001b[0m\u001b[1;33m.\u001b[0m\u001b[0mMetaGraphDef\u001b[0m\u001b[1;33m)\u001b[0m\u001b[1;33m:\u001b[0m\u001b[1;33m\u001b[0m\u001b[0m\n\u001b[1;32m-> 1559\u001b[1;33m     \u001b[0mmeta_graph_def\u001b[0m \u001b[1;33m=\u001b[0m \u001b[0mmeta_graph\u001b[0m\u001b[1;33m.\u001b[0m\u001b[0mread_meta_graph_file\u001b[0m\u001b[1;33m(\u001b[0m\u001b[0mmeta_graph_or_file\u001b[0m\u001b[1;33m)\u001b[0m\u001b[1;33m\u001b[0m\u001b[0m\n\u001b[0m\u001b[0;32m   1560\u001b[0m   \u001b[1;32melse\u001b[0m\u001b[1;33m:\u001b[0m\u001b[1;33m\u001b[0m\u001b[0m\n\u001b[0;32m   1561\u001b[0m     \u001b[0mmeta_graph_def\u001b[0m \u001b[1;33m=\u001b[0m \u001b[0mmeta_graph_or_file\u001b[0m\u001b[1;33m\u001b[0m\u001b[0m\n",
      "\u001b[1;32mC:\\Users\\Flavio\\Anaconda3\\envs\\udacity\\lib\\site-packages\\tensorflow\\python\\framework\\meta_graph.py\u001b[0m in \u001b[0;36mread_meta_graph_file\u001b[1;34m(filename)\u001b[0m\n\u001b[0;32m    400\u001b[0m   \u001b[0mmeta_graph_def\u001b[0m \u001b[1;33m=\u001b[0m \u001b[0mmeta_graph_pb2\u001b[0m\u001b[1;33m.\u001b[0m\u001b[0mMetaGraphDef\u001b[0m\u001b[1;33m(\u001b[0m\u001b[1;33m)\u001b[0m\u001b[1;33m\u001b[0m\u001b[0m\n\u001b[0;32m    401\u001b[0m   \u001b[1;32mif\u001b[0m \u001b[1;32mnot\u001b[0m \u001b[0mfile_io\u001b[0m\u001b[1;33m.\u001b[0m\u001b[0mfile_exists\u001b[0m\u001b[1;33m(\u001b[0m\u001b[0mfilename\u001b[0m\u001b[1;33m)\u001b[0m\u001b[1;33m:\u001b[0m\u001b[1;33m\u001b[0m\u001b[0m\n\u001b[1;32m--> 402\u001b[1;33m     \u001b[1;32mraise\u001b[0m \u001b[0mIOError\u001b[0m\u001b[1;33m(\u001b[0m\u001b[1;34m\"File %s does not exist.\"\u001b[0m \u001b[1;33m%\u001b[0m \u001b[0mfilename\u001b[0m\u001b[1;33m)\u001b[0m\u001b[1;33m\u001b[0m\u001b[0m\n\u001b[0m\u001b[0;32m    403\u001b[0m   \u001b[1;31m# First try to read it as a binary file.\u001b[0m\u001b[1;33m\u001b[0m\u001b[1;33m\u001b[0m\u001b[0m\n\u001b[0;32m    404\u001b[0m   \u001b[0mfile_content\u001b[0m \u001b[1;33m=\u001b[0m \u001b[0mfile_io\u001b[0m\u001b[1;33m.\u001b[0m\u001b[0mread_file_to_string\u001b[0m\u001b[1;33m(\u001b[0m\u001b[0mfilename\u001b[0m\u001b[1;33m)\u001b[0m\u001b[1;33m\u001b[0m\u001b[0m\n",
      "\u001b[1;31mOSError\u001b[0m: File checkpoints/dev.meta does not exist."
     ]
    }
   ],
   "source": [
    "translate_sentence = 'he saw a old yellow truck .'\n",
    "\n",
    "\n",
    "\"\"\"\n",
    "DON'T MODIFY ANYTHING IN THIS CELL\n",
    "\"\"\"\n",
    "translate_sentence = sentence_to_seq(translate_sentence, source_vocab_to_int)\n",
    "\n",
    "loaded_graph = tf.Graph()\n",
    "with tf.Session(graph=loaded_graph) as sess:\n",
    "    # Load saved model\n",
    "    loader = tf.train.import_meta_graph(load_path + '.meta')\n",
    "    loader.restore(sess, load_path)\n",
    "\n",
    "    input_data = loaded_graph.get_tensor_by_name('input:0')\n",
    "    logits = loaded_graph.get_tensor_by_name('logits:0')\n",
    "    keep_prob = loaded_graph.get_tensor_by_name('keep_prob:0')\n",
    "\n",
    "    translate_logits = sess.run(logits, {input_data: [translate_sentence], keep_prob: 1.0})[0]\n",
    "\n",
    "print('Input')\n",
    "print('  Word Ids:      {}'.format([i for i in translate_sentence]))\n",
    "print('  English Words: {}'.format([source_int_to_vocab[i] for i in translate_sentence]))\n",
    "\n",
    "print('\\nPrediction')\n",
    "print('  Word Ids:      {}'.format([i for i in np.argmax(translate_logits, 1)]))\n",
    "print('  French Words: {}'.format([target_int_to_vocab[i] for i in np.argmax(translate_logits, 1)]))"
   ]
  },
  {
   "cell_type": "markdown",
   "metadata": {
    "deletable": true,
    "editable": true
   },
   "source": [
    "## Imperfect Translation\n",
    "You might notice that some sentences translate better than others.  Since the dataset you're using only has a vocabulary of 227 English words of the thousands that you use, you're only going to see good results using these words.  For this project, you don't need a perfect translation. However, if you want to create a better translation model, you'll need better data.\n",
    "\n",
    "You can train on the [WMT10 French-English corpus](http://www.statmt.org/wmt10/training-giga-fren.tar).  This dataset has more vocabulary and richer in topics discussed.  However, this will take you days to train, so make sure you've a GPU and the neural network is performing well on dataset we provided.  Just make sure you play with the WMT10 corpus after you've submitted this project.\n",
    "## Submitting This Project\n",
    "When submitting this project, make sure to run all the cells before saving the notebook. Save the notebook file as \"dlnd_language_translation.ipynb\" and save it as a HTML file under \"File\" -> \"Download as\". Include the \"helper.py\" and \"problem_unittests.py\" files in your submission."
   ]
  }
 ],
 "metadata": {
  "kernelspec": {
   "display_name": "Python 3",
   "language": "python",
   "name": "python3"
  },
  "language_info": {
   "codemirror_mode": {
    "name": "ipython",
    "version": 3
   },
   "file_extension": ".py",
   "mimetype": "text/x-python",
   "name": "python",
   "nbconvert_exporter": "python",
   "pygments_lexer": "ipython3",
   "version": "3.5.3"
  }
 },
 "nbformat": 4,
 "nbformat_minor": 0
}
